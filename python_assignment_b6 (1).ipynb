{
  "cells": [
    {
      "cell_type": "markdown",
      "id": "d2328cad",
      "metadata": {
        "id": "d2328cad"
      },
      "source": [
        "# Python Basics Assignment"
      ]
    },
    {
      "cell_type": "markdown",
      "id": "cb537954",
      "metadata": {
        "id": "cb537954"
      },
      "source": [
        "### Question 1\n",
        "Write a function to compute number of vowels in a string given as input"
      ]
    },
    {
      "cell_type": "code",
      "execution_count": 3,
      "id": "cf213ba2",
      "metadata": {
        "colab": {
          "base_uri": "https://localhost:8080/"
        },
        "id": "cf213ba2",
        "outputId": "4e7ae984-15f1-4e2d-8085-93fa11ac4476"
      },
      "outputs": [
        {
          "output_type": "stream",
          "name": "stdout",
          "text": [
            "Enter a string: Ananya\n",
            "3\n"
          ]
        }
      ],
      "source": [
        "# Your code here\n",
        "def vowels():\n",
        "    string = input(\"Enter a string: \")\n",
        "    count = 0\n",
        "    for char in string:\n",
        "        if char in \"aeiouAEIOU\":\n",
        "            count = count+1\n",
        "    print(count)\n",
        "vowels()"
      ]
    },
    {
      "cell_type": "markdown",
      "id": "4eaff430",
      "metadata": {
        "id": "4eaff430"
      },
      "source": [
        "### Question 2\n",
        "Write a function that checks whether a number is prime."
      ]
    },
    {
      "cell_type": "code",
      "execution_count": 4,
      "id": "81934cf7",
      "metadata": {
        "colab": {
          "base_uri": "https://localhost:8080/"
        },
        "id": "81934cf7",
        "outputId": "1875c781-2c01-4a35-a908-e6402f63b5e2"
      },
      "outputs": [
        {
          "output_type": "stream",
          "name": "stdout",
          "text": [
            "Enter a number: 13\n",
            "13 is a prime number\n"
          ]
        }
      ],
      "source": [
        "# Your code here\n",
        "def prime():\n",
        "    num = int(input(\"Enter a number: \"))\n",
        "    if num > 1:\n",
        "        for i in range(2, num):\n",
        "            if (num % i) == 0:\n",
        "                print(num, \"is not a prime number\")\n",
        "                break\n",
        "        else:\n",
        "            print(num, \"is a prime number\")\n",
        "\n",
        "prime()"
      ]
    },
    {
      "cell_type": "markdown",
      "id": "5f061e50",
      "metadata": {
        "id": "5f061e50"
      },
      "source": [
        "### Question 3\n",
        "Write a function to return the maximum of two numbers."
      ]
    },
    {
      "cell_type": "code",
      "execution_count": 5,
      "id": "44e2a596",
      "metadata": {
        "colab": {
          "base_uri": "https://localhost:8080/"
        },
        "id": "44e2a596",
        "outputId": "332e5a37-bb34-46e8-aadc-3ad7896afbcd"
      },
      "outputs": [
        {
          "output_type": "stream",
          "name": "stdout",
          "text": [
            "Enter 1st number: 11\n",
            "Enter 2nd number: 25\n",
            "25\n"
          ]
        }
      ],
      "source": [
        "# Your code here\n",
        "def maximum():\n",
        "    num1 = int(input(\"Enter 1st number: \"))\n",
        "    num2 = int(input(\"Enter 2nd number: \"))\n",
        "    print(max(num1,num2))\n",
        "\n",
        "maximum()"
      ]
    },
    {
      "cell_type": "markdown",
      "id": "7513ca91",
      "metadata": {
        "id": "7513ca91"
      },
      "source": [
        "### Question 4\n",
        "Write a function to return the factorial of a number."
      ]
    },
    {
      "cell_type": "code",
      "execution_count": 6,
      "id": "6617842f",
      "metadata": {
        "colab": {
          "base_uri": "https://localhost:8080/"
        },
        "id": "6617842f",
        "outputId": "ca5a50eb-426c-4c66-c526-68cef91998ab"
      },
      "outputs": [
        {
          "output_type": "stream",
          "name": "stdout",
          "text": [
            "Enter a number: 5\n",
            "120\n"
          ]
        }
      ],
      "source": [
        "# Your code here\n",
        "def factorial():\n",
        "    num = int(input(\"Enter a number: \"))\n",
        "    fact = 1\n",
        "    for i in range(1,num+1):\n",
        "      fact = fact * i\n",
        "    print(fact)\n",
        "factorial()"
      ]
    },
    {
      "cell_type": "markdown",
      "id": "9b942098",
      "metadata": {
        "id": "9b942098"
      },
      "source": [
        "### Question 5\n",
        "Write a function to reverse a string without string indexing."
      ]
    },
    {
      "cell_type": "code",
      "execution_count": 7,
      "id": "d606b194",
      "metadata": {
        "id": "d606b194",
        "colab": {
          "base_uri": "https://localhost:8080/"
        },
        "outputId": "1c63fd6e-3810-4092-fee6-a579a07900d2"
      },
      "outputs": [
        {
          "output_type": "stream",
          "name": "stdout",
          "text": [
            "Enter a string: Ananya\n",
            "aynanA\n"
          ]
        }
      ],
      "source": [
        "# Your code here\n",
        "def reverse():\n",
        "    string = input(\"Enter a string: \")\n",
        "    rev = ''.join(reversed(string))\n",
        "    print(rev)\n",
        "\n",
        "reverse()"
      ]
    },
    {
      "cell_type": "markdown",
      "id": "1abd915b",
      "metadata": {
        "id": "1abd915b"
      },
      "source": [
        "### Question 6\n",
        "Write a function to check if a string is a palindrome."
      ]
    },
    {
      "cell_type": "code",
      "execution_count": 8,
      "id": "2b868fb3",
      "metadata": {
        "id": "2b868fb3",
        "colab": {
          "base_uri": "https://localhost:8080/"
        },
        "outputId": "a6174f59-80e2-4cb9-e760-cf823a0883ed"
      },
      "outputs": [
        {
          "output_type": "stream",
          "name": "stdout",
          "text": [
            "Enter a string: malayalam\n",
            "malayalam is a palindrome\n"
          ]
        }
      ],
      "source": [
        "# Your code here\n",
        "def palindrome():\n",
        "    string = input(\"Enter a string: \")\n",
        "    if string == string[::-1]:\n",
        "        print(string,\"is a palindrome\")\n",
        "    else:\n",
        "        print(string,\"is not a palindrome\")\n",
        "\n",
        "palindrome()"
      ]
    },
    {
      "cell_type": "markdown",
      "id": "5f2f3791",
      "metadata": {
        "id": "5f2f3791"
      },
      "source": [
        "### Question 7\n",
        "Write a function to count vowels in a string."
      ]
    },
    {
      "cell_type": "code",
      "execution_count": 9,
      "id": "73fefa50",
      "metadata": {
        "id": "73fefa50",
        "colab": {
          "base_uri": "https://localhost:8080/"
        },
        "outputId": "8d97472f-2910-4c26-addd-cbd7e717f42d"
      },
      "outputs": [
        {
          "output_type": "stream",
          "name": "stdout",
          "text": [
            "Enter a string: Ananya\n",
            "3\n"
          ]
        }
      ],
      "source": [
        "# Your code here\n",
        "def vowels():\n",
        "    string = input(\"Enter a string: \")\n",
        "    count = 0\n",
        "    for char in string:\n",
        "        if char in \"aeiouAEIOU\":\n",
        "            count = count+1\n",
        "    print(count)\n",
        "vowels()"
      ]
    },
    {
      "cell_type": "markdown",
      "id": "0d3a9996",
      "metadata": {
        "id": "0d3a9996"
      },
      "source": [
        "### Question 8\n",
        "Write a function that returns the sum of a list."
      ]
    },
    {
      "cell_type": "code",
      "execution_count": 10,
      "id": "ab6afc66",
      "metadata": {
        "id": "ab6afc66",
        "colab": {
          "base_uri": "https://localhost:8080/"
        },
        "outputId": "373e23c5-325c-41eb-eb6c-568e8b6ddf2b"
      },
      "outputs": [
        {
          "output_type": "stream",
          "name": "stdout",
          "text": [
            "[1, 2, 3, 4, 5]\n",
            "Sum:  15\n"
          ]
        }
      ],
      "source": [
        "def list():\n",
        "  list = [1,2,3,4,5]\n",
        "  print(list)\n",
        "  sum = 0\n",
        "  for i in list:\n",
        "    sum = sum + i\n",
        "  print(\"Sum: \",sum)\n",
        "list()"
      ]
    },
    {
      "cell_type": "markdown",
      "id": "f6682500",
      "metadata": {
        "id": "f6682500"
      },
      "source": [
        "### Question 9\n",
        "Write a function to find the smallest number in a list."
      ]
    },
    {
      "cell_type": "code",
      "execution_count": 11,
      "id": "6798a641",
      "metadata": {
        "id": "6798a641",
        "colab": {
          "base_uri": "https://localhost:8080/"
        },
        "outputId": "622cd20f-f567-4e87-c0cc-4f557d8f0ce0"
      },
      "outputs": [
        {
          "output_type": "stream",
          "name": "stdout",
          "text": [
            "[12, 25, 22, 14, 5]\n",
            "Minimum:  5\n"
          ]
        }
      ],
      "source": [
        "# Your code here\n",
        "def minimum():\n",
        "    list = [12,25,22,14,5]\n",
        "    print(list)\n",
        "    print(\"Minimum: \",min(list))\n",
        "minimum()"
      ]
    },
    {
      "cell_type": "markdown",
      "id": "fb11e683",
      "metadata": {
        "id": "fb11e683"
      },
      "source": [
        "### Question 10\n",
        "Write a function to remove duplicates from a list."
      ]
    },
    {
      "cell_type": "code",
      "execution_count": 12,
      "id": "7c53f88c",
      "metadata": {
        "id": "7c53f88c",
        "colab": {
          "base_uri": "https://localhost:8080/"
        },
        "outputId": "68eca383-a5b9-49c8-cc9d-b039b4b94a7d"
      },
      "outputs": [
        {
          "output_type": "stream",
          "name": "stdout",
          "text": [
            "[1, 2, 3, 4, 4, 5, 5, 5]\n",
            "[1, 2, 3, 4, 5]\n"
          ]
        }
      ],
      "source": [
        "# Your code here\n",
        "def list():\n",
        "    x = [1,2,3,4,4,5,5,5]\n",
        "    print(x)\n",
        "    y = []\n",
        "    for i in x:\n",
        "        if i not in y:\n",
        "            y.append(i)\n",
        "    print(y)\n",
        "list()"
      ]
    },
    {
      "cell_type": "markdown",
      "id": "9c380a5c",
      "metadata": {
        "id": "9c380a5c"
      },
      "source": [
        "### Question 11\n",
        "Write a function to sort a list in ascending order without using builtin sort function"
      ]
    },
    {
      "cell_type": "code",
      "execution_count": 13,
      "id": "8e43832f",
      "metadata": {
        "id": "8e43832f",
        "colab": {
          "base_uri": "https://localhost:8080/"
        },
        "outputId": "1bfa13ec-18e8-4bb2-89ea-e8299348c87d"
      },
      "outputs": [
        {
          "output_type": "stream",
          "name": "stdout",
          "text": [
            "[12, 25, 22, 14, 5]\n",
            "[5, 12, 14, 22, 25]\n"
          ]
        }
      ],
      "source": [
        "# Your code here\n",
        "def sort():\n",
        "    my_list = [12,25,22,14,5]\n",
        "    print(my_list)\n",
        "    for i in range(len(my_list)):\n",
        "        for j in range(i+1,len(my_list)):\n",
        "            if my_list[i] > my_list[j]:\n",
        "                my_list[i],my_list[j] = my_list[j],my_list[i]\n",
        "    print(my_list)\n",
        "sort()"
      ]
    },
    {
      "cell_type": "markdown",
      "id": "1270c91c",
      "metadata": {
        "id": "1270c91c"
      },
      "source": [
        "### Question 12\n",
        "Write a function that returns the length of a string."
      ]
    },
    {
      "cell_type": "code",
      "execution_count": 14,
      "id": "87f35472",
      "metadata": {
        "id": "87f35472",
        "colab": {
          "base_uri": "https://localhost:8080/"
        },
        "outputId": "cac48adb-c60f-4010-a25d-e0dcf09a3afd"
      },
      "outputs": [
        {
          "output_type": "stream",
          "name": "stdout",
          "text": [
            "Enter a string: Hello\n",
            "5\n"
          ]
        }
      ],
      "source": [
        "# Your code here\n",
        "def length():\n",
        "    string = input(\"Enter a string: \")\n",
        "    print(len(string))\n",
        "length()"
      ]
    },
    {
      "cell_type": "markdown",
      "id": "9a8e3d28",
      "metadata": {
        "id": "9a8e3d28"
      },
      "source": [
        "### Question 13\n",
        "Write a function to count words in a sentence."
      ]
    },
    {
      "cell_type": "code",
      "execution_count": 15,
      "id": "e6f996ef",
      "metadata": {
        "id": "e6f996ef",
        "colab": {
          "base_uri": "https://localhost:8080/"
        },
        "outputId": "055ed9cf-ddae-438c-95cb-4b9b57234fa8"
      },
      "outputs": [
        {
          "output_type": "stream",
          "name": "stdout",
          "text": [
            "Enter a sentence: Good Morning\n",
            "2\n"
          ]
        }
      ],
      "source": [
        "# Your code here\n",
        "def word_count():\n",
        "    sentence = input(\"Enter a sentence: \")\n",
        "    words = sentence.split()\n",
        "    print(len(words))\n",
        "word_count()"
      ]
    },
    {
      "cell_type": "markdown",
      "id": "430c2e4a",
      "metadata": {
        "id": "430c2e4a"
      },
      "source": [
        "### Question 14\n",
        "Write a function to convert Celsius to Fahrenheit."
      ]
    },
    {
      "cell_type": "code",
      "execution_count": 16,
      "id": "b710b0bd",
      "metadata": {
        "id": "b710b0bd",
        "colab": {
          "base_uri": "https://localhost:8080/"
        },
        "outputId": "8960b0b4-b785-43e6-f19d-ec714ea4ad87"
      },
      "outputs": [
        {
          "output_type": "stream",
          "name": "stdout",
          "text": [
            "Enter temperature in celsius: 25\n",
            "Temperature in Fahrenheit:  77\n"
          ]
        }
      ],
      "source": [
        "# Your code here\n",
        "def conversion():\n",
        "    c = int(input(\"Enter temperature in celsius: \"))\n",
        "    f = (c * 9//5) + 32\n",
        "    print(\"Temperature in Fahrenheit: \",f)\n",
        "conversion()"
      ]
    },
    {
      "cell_type": "markdown",
      "id": "acefe5e3",
      "metadata": {
        "id": "acefe5e3"
      },
      "source": [
        "### Question 15\n",
        "Write a function to check if a number is palindrome."
      ]
    },
    {
      "cell_type": "code",
      "execution_count": 17,
      "id": "b700abae",
      "metadata": {
        "id": "b700abae",
        "colab": {
          "base_uri": "https://localhost:8080/"
        },
        "outputId": "67301003-06bf-4dd2-ab2a-bd5c5738a880"
      },
      "outputs": [
        {
          "output_type": "stream",
          "name": "stdout",
          "text": [
            "Enter a number: 252\n",
            "252 is a palindrome\n"
          ]
        }
      ],
      "source": [
        "# Your code here\n",
        "def palindrome():\n",
        "    num = input(\"Enter a number: \")\n",
        "    if num == num[::-1]:\n",
        "        print(num, \"is a palindrome\")\n",
        "    else:\n",
        "        print(num, \"is not a palindrome\")\n",
        "\n",
        "palindrome()"
      ]
    },
    {
      "cell_type": "markdown",
      "id": "b63452cb",
      "metadata": {
        "id": "b63452cb"
      },
      "source": [
        "### Question 16\n",
        "Write a function to return all even numbers in a list."
      ]
    },
    {
      "cell_type": "code",
      "execution_count": 18,
      "id": "9d1fc968",
      "metadata": {
        "id": "9d1fc968",
        "colab": {
          "base_uri": "https://localhost:8080/"
        },
        "outputId": "c01988b5-d8c0-460f-f3c1-1df03d389e36"
      },
      "outputs": [
        {
          "output_type": "stream",
          "name": "stdout",
          "text": [
            "List: [1, 2, 3, 4, 5, 6, 7, 8, 9, 10]\n",
            "Even numbers list: [2, 4, 6, 8, 10]\n"
          ]
        }
      ],
      "source": [
        "def even():\n",
        "    num = [1, 2, 3, 4, 5, 6, 7, 8, 9, 10]\n",
        "    print(\"List:\", num)\n",
        "    even_num = []\n",
        "\n",
        "    for num in num:\n",
        "        if num % 2 == 0:\n",
        "            even_num.append(num)\n",
        "\n",
        "    print(\"Even numbers list:\", even_num)\n",
        "\n",
        "even()"
      ]
    },
    {
      "cell_type": "markdown",
      "id": "aca524d9",
      "metadata": {
        "id": "aca524d9"
      },
      "source": [
        "### Question 17\n",
        "Write a function to return the nth Fibonacci number."
      ]
    },
    {
      "cell_type": "code",
      "execution_count": 19,
      "id": "97dc4e87",
      "metadata": {
        "id": "97dc4e87",
        "colab": {
          "base_uri": "https://localhost:8080/"
        },
        "outputId": "6f49031e-5e2d-4ac8-f4d0-d94cbe2f8e04"
      },
      "outputs": [
        {
          "output_type": "execute_result",
          "data": {
            "text/plain": [
              "13"
            ]
          },
          "metadata": {},
          "execution_count": 19
        }
      ],
      "source": [
        "# Your code here\n",
        "def fibonacci(n):\n",
        "  a = 0\n",
        "  b = 1\n",
        "  for i in range(n):\n",
        "    a , b = b , a + b\n",
        "  return a\n",
        "\n",
        "fibonacci(7)"
      ]
    },
    {
      "cell_type": "markdown",
      "id": "29c847dc",
      "metadata": {
        "id": "29c847dc"
      },
      "source": [
        "### Question 18\n",
        "Write a function to calculate the average of a list."
      ]
    },
    {
      "cell_type": "code",
      "execution_count": 20,
      "id": "9adc9fd2",
      "metadata": {
        "id": "9adc9fd2",
        "colab": {
          "base_uri": "https://localhost:8080/"
        },
        "outputId": "9605b0fd-a2aa-426c-db6e-4c44135048c0"
      },
      "outputs": [
        {
          "output_type": "stream",
          "name": "stdout",
          "text": [
            "[1, 2, 3, 4, 5]\n",
            "Average:  3.0\n"
          ]
        }
      ],
      "source": [
        "# Your code here\n",
        "def average():\n",
        "    x = [1,2,3,4,5]\n",
        "    print(x)\n",
        "    sum = 0\n",
        "    for i in x:\n",
        "        sum = sum + i\n",
        "    avg = sum/len(x)\n",
        "    print(\"Average: \",avg)\n",
        "average()"
      ]
    },
    {
      "cell_type": "markdown",
      "id": "420240fb",
      "metadata": {
        "id": "420240fb"
      },
      "source": [
        "### Question 19\n",
        "Write a function that returns a dictionary of character counts."
      ]
    },
    {
      "cell_type": "code",
      "execution_count": 21,
      "id": "95cafc54",
      "metadata": {
        "id": "95cafc54",
        "colab": {
          "base_uri": "https://localhost:8080/"
        },
        "outputId": "2e491011-4e77-4061-e471-93b4149966e5"
      },
      "outputs": [
        {
          "name": "stdout",
          "output_type": "stream",
          "text": [
            "Enter a string: Hello\n"
          ]
        },
        {
          "output_type": "execute_result",
          "data": {
            "text/plain": [
              "{'H': 1, 'e': 1, 'l': 2, 'o': 1}"
            ]
          },
          "metadata": {},
          "execution_count": 21
        }
      ],
      "source": [
        "# Your code here\n",
        "def char_count():\n",
        "    x = input(\"Enter a string: \")\n",
        "    y = {}\n",
        "    for i in x:\n",
        "        if i in y:\n",
        "            y[i] += 1\n",
        "        else:\n",
        "            y[i] = 1\n",
        "    return y\n",
        "\n",
        "char_count()"
      ]
    },
    {
      "cell_type": "markdown",
      "id": "17629a07",
      "metadata": {
        "id": "17629a07"
      },
      "source": [
        "### Question 20\n",
        "Write a function that returns True if all list elements are unique."
      ]
    },
    {
      "cell_type": "code",
      "execution_count": 22,
      "id": "fe4f8820",
      "metadata": {
        "id": "fe4f8820",
        "colab": {
          "base_uri": "https://localhost:8080/"
        },
        "outputId": "c1721055-a72b-4477-f978-ddaf1701501c"
      },
      "outputs": [
        {
          "output_type": "stream",
          "name": "stdout",
          "text": [
            "[1, 2, 3, 4, 5]\n",
            "True\n"
          ]
        }
      ],
      "source": [
        "# Your code here\n",
        "def unique_elements():\n",
        "    list1 = [1, 2, 3, 4, 5]\n",
        "    print(list1)\n",
        "\n",
        "    for i in range(len(list1)):\n",
        "        for j in range(i + 1, len(list1)):\n",
        "            if list1[i] == list1[j]:\n",
        "                print(\"False\")\n",
        "                return\n",
        "    print(\"True\")\n",
        "\n",
        "unique_elements()"
      ]
    },
    {
      "cell_type": "markdown",
      "id": "91dc87b9",
      "metadata": {
        "id": "91dc87b9"
      },
      "source": [
        "### Question 21\n",
        "Write a function that returns dot product of two list of numbers"
      ]
    },
    {
      "cell_type": "code",
      "execution_count": 23,
      "id": "87c3fa4b",
      "metadata": {
        "id": "87c3fa4b",
        "colab": {
          "base_uri": "https://localhost:8080/"
        },
        "outputId": "d4d427f8-f8d6-4eeb-aa6a-7405cafca4d8"
      },
      "outputs": [
        {
          "output_type": "stream",
          "name": "stdout",
          "text": [
            "Dot product:  3\n"
          ]
        }
      ],
      "source": [
        "# Your code here\n",
        "def dot_product():\n",
        "  v1 = [1,1,2]\n",
        "  v2 = [0,1,1]\n",
        "\n",
        "  dot = (v1[0]*v2[0] + v1[1]*v2[1] + v1[2]*v2[2])\n",
        "  print(\"Dot product: \",dot)\n",
        "\n",
        "dot_product()"
      ]
    },
    {
      "cell_type": "markdown",
      "id": "5eeb0527",
      "metadata": {
        "id": "5eeb0527"
      },
      "source": [
        "### Question 22\n",
        "Write a function that returns the projection of vector a onto vector b. Both a and b are given as list of numbers"
      ]
    },
    {
      "cell_type": "code",
      "execution_count": 24,
      "id": "d2c2439f",
      "metadata": {
        "id": "d2c2439f",
        "colab": {
          "base_uri": "https://localhost:8080/"
        },
        "outputId": "fbce8087-4af9-4951-8bd1-36112689f929"
      },
      "outputs": [
        {
          "output_type": "stream",
          "name": "stdout",
          "text": [
            "Dot product:  3\n",
            "Magnitude: 1.41\n",
            "Projection: 2.12\n"
          ]
        }
      ],
      "source": [
        "# Your code here\n",
        "def projection():\n",
        "  v1 = [1,1,2]\n",
        "  v2 = [0,1,1]\n",
        "\n",
        "  dot = (v1[0]*v2[0] + v1[1]*v2[1] + v1[2]*v2[2])\n",
        "  print(\"Dot product: \",dot)\n",
        "  magnitude = (v2[0]**2 + v2[1]**2 + v2[2]**2)**0.5\n",
        "  print(\"Magnitude: %.2f\"%magnitude)\n",
        "  projection = dot/magnitude\n",
        "  print(\"Projection: %.2f\"%projection)\n",
        "\n",
        "projection()"
      ]
    },
    {
      "cell_type": "markdown",
      "id": "1410b385",
      "metadata": {
        "id": "1410b385"
      },
      "source": [
        "### Question 23\n",
        "Write a function to return common elements between two lists."
      ]
    },
    {
      "cell_type": "code",
      "execution_count": 25,
      "id": "2cee584c",
      "metadata": {
        "id": "2cee584c",
        "colab": {
          "base_uri": "https://localhost:8080/"
        },
        "outputId": "c3e46fc9-1dca-42e9-d249-0fcebacd4924"
      },
      "outputs": [
        {
          "output_type": "stream",
          "name": "stdout",
          "text": [
            "List1:  [1, 2, 3, 4, 5]\n",
            "List2:  [3, 4, 5, 6, 7]\n",
            "Common list:  [3, 4, 5]\n"
          ]
        }
      ],
      "source": [
        "# Your code here\n",
        "def common_elements():\n",
        "    list1 = [1, 2, 3, 4, 5]\n",
        "    list2 = [3, 4, 5, 6, 7]\n",
        "    print(\"List1: \",list1)\n",
        "    print(\"List2: \",list2)\n",
        "    common = []\n",
        "    for i in list1:\n",
        "        if i in list2:\n",
        "            common.append(i)\n",
        "    print(\"Common list: \",common)\n",
        "\n",
        "common_elements()"
      ]
    },
    {
      "cell_type": "markdown",
      "id": "23ab5210",
      "metadata": {
        "id": "23ab5210"
      },
      "source": [
        "### Question 24\n",
        "Create a class Vector that supports addition, dot product, and magnitude."
      ]
    },
    {
      "cell_type": "code",
      "execution_count": 26,
      "id": "f6b18fd7",
      "metadata": {
        "id": "f6b18fd7",
        "colab": {
          "base_uri": "https://localhost:8080/"
        },
        "outputId": "e1c899b4-9ae9-4ed3-8511-4848aac19727"
      },
      "outputs": [
        {
          "output_type": "stream",
          "name": "stdout",
          "text": [
            "Enter the first list of numbers: 1 2 3\n",
            "Enter the second list of numbers: 4 5 6\n",
            "The sum of two vectors are:  (5, 7, 9)\n",
            "The dot product of two vectors are:  32\n",
            "The magnitude of the first vector is: 3.74\n",
            "The magnitude of the second vector is: 8.77\n"
          ]
        }
      ],
      "source": [
        "class Vector:\n",
        "    def __init__(self, x, y, z):\n",
        "        self.x = x\n",
        "        self.y = y\n",
        "        self.z = z\n",
        "\n",
        "    def __add__(self, other):\n",
        "        return Vector(self.x + other.x, self.y + other.y, self.z + other.z)\n",
        "\n",
        "    def dot(self,other):\n",
        "        return self.x * other.x + self.y * other.y + self.z * other.z\n",
        "\n",
        "    def magnitude(self):\n",
        "        return (self.x ** 2 + self.y ** 2 + self.z ** 2) ** 0.5\n",
        "    def __str__(self):\n",
        "        return f\"({self.x}, {self.y}, {self.z})\"\n",
        "\n",
        "usr_inpt1= input(\"Enter the first list of numbers: \")\n",
        "num1= map(int,usr_inpt1.split())\n",
        "usr_inpt2= input(\"Enter the second list of numbers: \")\n",
        "num2= map(int,usr_inpt2.split())\n",
        "vector1 = Vector(*num1)\n",
        "vector2 = Vector(*num2)\n",
        "\n",
        "print(\"The sum of two vectors are: \",vector1+vector2)\n",
        "print(\"The dot product of two vectors are: \",vector1.dot(vector2))\n",
        "print(\"The magnitude of the first vector is: %.2f\"%vector1.magnitude())\n",
        "print(\"The magnitude of the second vector is: %.2f\"%vector2.magnitude())"
      ]
    },
    {
      "cell_type": "markdown",
      "id": "a0621aba",
      "metadata": {
        "id": "a0621aba"
      },
      "source": [
        "### Question 25\n",
        "Implement a function to return all outliers in a list based on the IQR method."
      ]
    },
    {
      "cell_type": "code",
      "execution_count": 27,
      "id": "460a8994",
      "metadata": {
        "id": "460a8994",
        "colab": {
          "base_uri": "https://localhost:8080/"
        },
        "outputId": "207bf407-08a9-4497-ab34-74ffc931c9a4"
      },
      "outputs": [
        {
          "output_type": "stream",
          "name": "stdout",
          "text": [
            "Q1 :  20\n",
            "Q3 :  50\n",
            "IQR :  30\n",
            "Lower bound :  -25.0\n",
            "Upper bound :  95.0\n",
            "Outliers: None\n"
          ]
        }
      ],
      "source": [
        "def your_function_25():\n",
        "\n",
        "    n = [10,20,30,40,50]\n",
        "    Q1 = int(25/100 * len(n)+1)\n",
        "    Q3 = int(75/100 * len(n)+1)\n",
        "    print(\"Q1 : \",n[Q1-1])\n",
        "    print(\"Q3 : \",n[Q3])\n",
        "    IQR = n[Q3] - n[Q1-1]\n",
        "    print(\"IQR : \",IQR)\n",
        "    LB = n[Q1-1] - (1.5 * IQR)\n",
        "    print(\"Lower bound : \",LB)\n",
        "    UB = n[Q3] + 1.5 * IQR\n",
        "    print(\"Upper bound : \",UB)\n",
        "    outliers = []\n",
        "    for i in n:\n",
        "        if i < LB or i > UB:\n",
        "            outliers.append(i)\n",
        "    if outliers:\n",
        "        return outliers\n",
        "    else:\n",
        "        return None\n",
        "\n",
        "print(\"Outliers:\", your_function_25())"
      ]
    },
    {
      "cell_type": "markdown",
      "id": "f0be510e",
      "metadata": {
        "id": "f0be510e"
      },
      "source": [
        "### Question 26\n",
        "Function with default arguments:\n",
        "Create a function to compute variance with an option to use sample or population formula"
      ]
    },
    {
      "cell_type": "code",
      "execution_count": 27,
      "id": "941d732d",
      "metadata": {
        "id": "941d732d"
      },
      "outputs": [],
      "source": []
    },
    {
      "cell_type": "markdown",
      "id": "c39be0f1",
      "metadata": {
        "id": "c39be0f1"
      },
      "source": [
        "### Question 27\n",
        "Create a list of squares of even numbers between 1 and 20 using list comprehension."
      ]
    },
    {
      "cell_type": "code",
      "execution_count": 28,
      "id": "9e4ba74a",
      "metadata": {
        "id": "9e4ba74a",
        "colab": {
          "base_uri": "https://localhost:8080/"
        },
        "outputId": "fce4b18d-e6cb-4adf-c4be-0e38131cd013"
      },
      "outputs": [
        {
          "output_type": "stream",
          "name": "stdout",
          "text": [
            "[4, 16, 36, 64, 100, 144, 196, 256, 324, 400]\n"
          ]
        }
      ],
      "source": [
        "squares= [x**2 for x in range(1,21) if x%2==0]\n",
        "print(squares)"
      ]
    },
    {
      "cell_type": "markdown",
      "id": "b43c266d",
      "metadata": {
        "id": "b43c266d"
      },
      "source": [
        "### Question 28\n",
        "Write a function that returns the L1 and L2 norms of a vector given as list"
      ]
    },
    {
      "cell_type": "code",
      "execution_count": 28,
      "id": "4f5dc876",
      "metadata": {
        "id": "4f5dc876"
      },
      "outputs": [],
      "source": []
    },
    {
      "cell_type": "markdown",
      "id": "2007915f",
      "metadata": {
        "id": "2007915f"
      },
      "source": [
        "### Question 29\n",
        "Write a function that computes the 95% confidence interval for the mean of a list of numbers assuming normal distribution."
      ]
    },
    {
      "cell_type": "code",
      "execution_count": 28,
      "id": "8634dc63",
      "metadata": {
        "id": "8634dc63"
      },
      "outputs": [],
      "source": []
    },
    {
      "cell_type": "markdown",
      "id": "08df3afb",
      "metadata": {
        "id": "08df3afb"
      },
      "source": [
        "### Question 30\n",
        "Given a list of categorical values, create a frequency distribution dictionary."
      ]
    },
    {
      "cell_type": "code",
      "execution_count": 28,
      "id": "c9b88531",
      "metadata": {
        "id": "c9b88531"
      },
      "outputs": [],
      "source": []
    }
  ],
  "metadata": {
    "language_info": {
      "name": "python"
    },
    "colab": {
      "provenance": []
    },
    "kernelspec": {
      "name": "python3",
      "display_name": "Python 3"
    }
  },
  "nbformat": 4,
  "nbformat_minor": 5
}